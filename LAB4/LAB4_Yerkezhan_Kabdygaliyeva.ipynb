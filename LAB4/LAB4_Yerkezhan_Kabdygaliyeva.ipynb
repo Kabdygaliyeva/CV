{
 "cells": [
  {
   "cell_type": "markdown",
   "metadata": {},
   "source": [
    "## Solution for Task1"
   ]
  },
  {
   "cell_type": "code",
   "execution_count": 1,
   "metadata": {},
   "outputs": [],
   "source": [
    "N = [9, 529, 20, 15, 32, 1041]\n",
    "for element in N:\n",
    "    #Функция format(N,'b') возвращает отформатированное представление заданного значения (N), в бинарном (b) формате\n",
    "    print(\"Вход:\", element, \"Выход:\", format(element, 'b'))"
   ]
  },
  {
   "cell_type": "code",
   "execution_count": 2,
   "metadata": {},
   "outputs": [],
   "source": [
    "N = 32\n",
    "def solution(N):\n",
    "    N = format(N, 'b').strip('0').split('1') \n",
    "    return max([len(x) for x in N])"
   ]
  },
  {
   "cell_type": "code",
   "execution_count": 3,
   "metadata": {},
   "outputs": [
    {
     "data": {
      "text/plain": [
       "0"
      ]
     },
     "execution_count": 3,
     "metadata": {},
     "output_type": "execute_result"
    }
   ],
   "source": [
    "solution(N)"
   ]
  },
  {
   "cell_type": "markdown",
   "metadata": {},
   "source": [
    "#### Проверка решения"
   ]
  },
  {
   "cell_type": "code",
   "execution_count": 4,
   "metadata": {},
   "outputs": [],
   "source": [
    "M = 1041\n",
    "def solution(M):\n",
    "    M = format(M, 'b').strip('0').split('1')\n",
    "    return max([len(x) for x in M])"
   ]
  },
  {
   "cell_type": "code",
   "execution_count": 5,
   "metadata": {},
   "outputs": [
    {
     "data": {
      "text/plain": [
       "5"
      ]
     },
     "execution_count": 5,
     "metadata": {},
     "output_type": "execute_result"
    }
   ],
   "source": [
    "solution(M)"
   ]
  },
  {
   "cell_type": "markdown",
   "metadata": {},
   "source": [
    "## Solution for Task3"
   ]
  },
  {
   "cell_type": "code",
   "execution_count": 6,
   "metadata": {},
   "outputs": [],
   "source": [
    "A = [9,3,9,3,9,7,9]"
   ]
  },
  {
   "cell_type": "code",
   "execution_count": 7,
   "metadata": {},
   "outputs": [],
   "source": [
    "def solution(A):\n",
    "    for i in set(A):\n",
    "        if A.count(i) % 2:\n",
    "            print(\"Элемент не имеющий пару:\", i, \"индекс элемента:\", A.index(i))"
   ]
  },
  {
   "cell_type": "code",
   "execution_count": 8,
   "metadata": {},
   "outputs": [
    {
     "name": "stdout",
     "output_type": "stream",
     "text": [
      "Элемент не имеющий пару: 7 индекс элемента: 5\n"
     ]
    }
   ],
   "source": [
    "solution(A)"
   ]
  },
  {
   "cell_type": "markdown",
   "metadata": {},
   "source": [
    "#### Проверка решения"
   ]
  },
  {
   "cell_type": "code",
   "execution_count": 9,
   "metadata": {},
   "outputs": [],
   "source": [
    "B = [9,3,9,3,9,7,9,12,13,12,12,140,15]"
   ]
  },
  {
   "cell_type": "code",
   "execution_count": 10,
   "metadata": {},
   "outputs": [],
   "source": [
    "def solution(B):\n",
    "    for i in set(B):\n",
    "        if B.count(i) % 2:\n",
    "            print(\"Элемент не имеющий пару:\", i, \"индекс элемента:\", B.index(i))"
   ]
  },
  {
   "cell_type": "code",
   "execution_count": 11,
   "metadata": {},
   "outputs": [
    {
     "name": "stdout",
     "output_type": "stream",
     "text": [
      "Элемент не имеющий пару: 7 индекс элемента: 5\n",
      "Элемент не имеющий пару: 12 индекс элемента: 7\n",
      "Элемент не имеющий пару: 13 индекс элемента: 8\n",
      "Элемент не имеющий пару: 140 индекс элемента: 11\n",
      "Элемент не имеющий пару: 15 индекс элемента: 12\n"
     ]
    }
   ],
   "source": [
    "solution(B)"
   ]
  },
  {
   "cell_type": "markdown",
   "metadata": {},
   "source": [
    "## Solution for Task4"
   ]
  },
  {
   "cell_type": "code",
   "execution_count": 12,
   "metadata": {},
   "outputs": [],
   "source": [
    "P = [4,3,2,1,5]\n",
    "Q = [0,1,0,0,0]"
   ]
  },
  {
   "cell_type": "code",
   "execution_count": 13,
   "metadata": {},
   "outputs": [],
   "source": [
    "def solution(P,Q):\n",
    "    \n",
    "    #число рыб\n",
    "    count = len(P)\n",
    "    print(\"Начальное количество рыб:\",count)\n",
    "    \n",
    "    #Направления движения рыб:\n",
    "    #0 - вверх по течению\n",
    "    #1 - вниз по течению\n",
    "    \n",
    "    #находим индекс плывущего вниз по течению рыбу\n",
    "    #записываем\n",
    "    fish = []\n",
    "    for j in range(0, len(Q)):\n",
    "        if Q[j] == 1:\n",
    "            fish.append(j)\n",
    "            \n",
    "    #Далее перебираем список по плывущей вниз по течению рыбе и проверяем\n",
    "    #если рыбы встречаются, то начальный остаток будет убывать\n",
    "    \n",
    "        while Q[j] == 0 and len(fish) > 0:\n",
    "            if P[j] > P[fish[-1]]:\n",
    "                fish = fish[:-1]\n",
    "                count -= 1\n",
    "            else:\n",
    "                count -= 1\n",
    "                break\n",
    "                \n",
    "    return print(\"Количество рыб, которые остались:\", count)    "
   ]
  },
  {
   "cell_type": "code",
   "execution_count": 14,
   "metadata": {},
   "outputs": [
    {
     "name": "stdout",
     "output_type": "stream",
     "text": [
      "Начальное количество рыб: 5\n",
      "Количество рыб, которые остались: 2\n"
     ]
    }
   ],
   "source": [
    "solution(P,Q)"
   ]
  },
  {
   "cell_type": "markdown",
   "metadata": {},
   "source": [
    "#### Проверка решения"
   ]
  },
  {
   "cell_type": "code",
   "execution_count": 15,
   "metadata": {},
   "outputs": [],
   "source": [
    "P = [4,3,2,1,5,9,8]\n",
    "Q = [0,1,0,0,0,1,1]"
   ]
  },
  {
   "cell_type": "code",
   "execution_count": 16,
   "metadata": {},
   "outputs": [],
   "source": [
    "def solution(P,Q):\n",
    "    \n",
    "    #число рыб\n",
    "    count = len(P)\n",
    "    print(\"Начальное количество рыб:\",count)\n",
    "    \n",
    "    #Направления движения рыб:\n",
    "    #0 - вверх по течению\n",
    "    #1 - вниз по течению\n",
    "    \n",
    "    #находим индекс плывущего вниз по течению рыбу\n",
    "    #записываем\n",
    "    fish = []\n",
    "    for j in range(0, len(Q)):\n",
    "        if Q[j] == 1:\n",
    "            fish.append(j)\n",
    "            \n",
    "    #Далее перебираем список по плывущей вниз по течению рыбе и проверяем\n",
    "    #если рыбы встречаются, то начальный остаток будет убывать\n",
    "    \n",
    "    while Q[j] == 0 and len(fish) > 0:\n",
    "            if P[j] > P[fish[-1]]:\n",
    "                fish = fish[:-1]\n",
    "                count -= 1\n",
    "            else:\n",
    "                count -= 1\n",
    "                break\n",
    "                \n",
    "    return print(\"Количество рыб, которые остались:\", count)    "
   ]
  },
  {
   "cell_type": "code",
   "execution_count": 17,
   "metadata": {},
   "outputs": [
    {
     "name": "stdout",
     "output_type": "stream",
     "text": [
      "Начальное количество рыб: 7\n",
      "Количество рыб, которые остались: 7\n"
     ]
    }
   ],
   "source": [
    "solution(P,Q)"
   ]
  },
  {
   "cell_type": "markdown",
   "metadata": {},
   "source": [
    "#### Другое решение"
   ]
  },
  {
   "cell_type": "code",
   "execution_count": 18,
   "metadata": {},
   "outputs": [
    {
     "name": "stdout",
     "output_type": "stream",
     "text": [
      "[4, 3, 2, 1, 5]\n",
      "[4, 0, 0, 0, 5]\n",
      "\n",
      "Общее количество рыб: 5\n",
      "Количество съеденых друг другом рыб 3\n",
      "Количество выживших рыб 2\n"
     ]
    }
   ],
   "source": [
    "fish = [4,3,2,1,5]\n",
    "print(fish)\n",
    "\n",
    "for i in range(len(fish)):\n",
    "    #Сравнение размеров рыб\n",
    "    #По элементно перебираем рыбы\n",
    "    #Ищем в списке рыбы размером больше 3, если вдруг они имеются в списке, то оставляем их\n",
    "    #Ищем в списке рыбы размером меньшим или равным 3, если вдруг они имеются в списке заменяем их 0 (то есть удаляем)\n",
    "    \n",
    "    if fish[i] > 3: \n",
    "        fish[i] = fish[i]\n",
    "    elif fish[i] <= 3:\n",
    "        fish[i] = 0\n",
    "\n",
    "print(fish)\n",
    "print()\n",
    "\n",
    "print(\"Общее количество рыб:\", len(fish)) #общее количество рыб\n",
    "print(\"Количество съеденых друг другом рыб\", fish.count(0))\n",
    "print(\"Количество выживших рыб\", len(fish)- fish.count(0))"
   ]
  }
 ],
 "metadata": {
  "kernelspec": {
   "display_name": "Python 3",
   "language": "python",
   "name": "python3"
  },
  "language_info": {
   "codemirror_mode": {
    "name": "ipython",
    "version": 3
   },
   "file_extension": ".py",
   "mimetype": "text/x-python",
   "name": "python",
   "nbconvert_exporter": "python",
   "pygments_lexer": "ipython3",
   "version": "3.7.3"
  }
 },
 "nbformat": 4,
 "nbformat_minor": 4
}
